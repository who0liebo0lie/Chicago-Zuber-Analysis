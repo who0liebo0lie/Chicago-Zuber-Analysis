{
 "cells": [
  {
   "cell_type": "markdown",
   "metadata": {},
   "source": [
    "## Chicago Taxi Company Evaluation"
   ]
  },
  {
   "cell_type": "markdown",
   "metadata": {},
   "source": [
    "SQL Project on Zuber \n",
    "Project will show competency on evaluating a Chicago based ride share app (Zuber) for patterns in the available information.  Details to be discovered are understanding passenger preferences and the impact of external factors on rides.\n",
    "\n",
    "Several files will be uploaded:\n",
    "\n",
    "1)company table contains data columns of:\n",
    "company_name: taxi company name\n",
    "trips_amount: the number of rides for each taxi company on November 15-16, 2017.\n",
    "\n",
    "2)neighborhood_average_dropoff table contains data columns of:\n",
    "dropoff_location_name: Chicago neighborhoods where rides ended\n",
    "average_trips: the average number of rides that ended in each neighborhood in November 2017.\n",
    "\n",
    "3)loop table contains data from previous SQL project regarding data from rides traveling between the Loop neighborhood to O'Hare International Airport.  The columns are:\n",
    "start_ts\n",
    "pickup date and time\n",
    "weather_conditions\n",
    "weather conditions at the moment the ride started\n",
    "duration_seconds\n",
    "ride duration in seconds\n",
    "\n",
    "The files will be imported and studied. Evaluation will be made for each file type to ensure data types are correct.  Visual for top taxi companies will be generated. The top 10 neighborhoods will be identified in terms of drop-offs with visuals. Project will also test the following hypothesis:\n",
    "\"The average duration of rides from the Loop to O'Hare International Airport changes on rainy Saturdays.\""
   ]
  },
  {
   "cell_type": "code",
   "execution_count": 1,
   "metadata": {},
   "outputs": [],
   "source": [
    "#import libraries \n",
    "import pandas as pd \n",
    "import plotly.express as px\n",
    "import matplotlib.pyplot as plt\n",
    "import seaborn as sns\n",
    "import numpy as np\n",
    "from scipy import stats as st\n",
    "import plotly.graph_objects as go\n",
    "from scipy.stats import ttest_ind\n"
   ]
  },
  {
   "cell_type": "code",
   "execution_count": 2,
   "metadata": {},
   "outputs": [
    {
     "name": "stdout",
     "output_type": "stream",
     "text": [
      "                      company_name  trips_amount\n",
      "0                        Flash Cab         19558\n",
      "1        Taxi Affiliation Services         11422\n",
      "2                Medallion Leasing         10367\n",
      "3                       Yellow Cab          9888\n",
      "4  Taxi Affiliation Service Yellow          9299\n",
      "<class 'pandas.core.frame.DataFrame'>\n",
      "RangeIndex: 64 entries, 0 to 63\n",
      "Data columns (total 2 columns):\n",
      " #   Column        Non-Null Count  Dtype \n",
      "---  ------        --------------  ----- \n",
      " 0   company_name  64 non-null     object\n",
      " 1   trips_amount  64 non-null     int64 \n",
      "dtypes: int64(1), object(1)\n",
      "memory usage: 1.1+ KB\n",
      "None\n"
     ]
    }
   ],
   "source": [
    "#import csv file \n",
    "company = pd.read_csv('/datasets/project_sql_result_01.csv')\n",
    "print(company.head())\n",
    "print(company.info())\n",
    "#note that there are no empty columns\n",
    "#the data types for each column seem correct.  The company name is an object and trips_amount is an integer.  \n"
   ]
  },
  {
   "cell_type": "code",
   "execution_count": 3,
   "metadata": {},
   "outputs": [
    {
     "data": {
      "text/plain": [
       "0"
      ]
     },
     "execution_count": 3,
     "metadata": {},
     "output_type": "execute_result"
    }
   ],
   "source": [
    "#check for duplicated values \n",
    "company.duplicated().sum()"
   ]
  },
  {
   "cell_type": "code",
   "execution_count": 4,
   "metadata": {},
   "outputs": [
    {
     "data": {
      "text/plain": [
       "company_name    0\n",
       "trips_amount    0\n",
       "dtype: int64"
      ]
     },
     "execution_count": 4,
     "metadata": {},
     "output_type": "execute_result"
    }
   ],
   "source": [
    "#confirm no empty columns \n",
    "company.isna().sum()"
   ]
  },
  {
   "cell_type": "code",
   "execution_count": 5,
   "metadata": {},
   "outputs": [
    {
     "data": {
      "text/html": [
       "<div>\n",
       "<style scoped>\n",
       "    .dataframe tbody tr th:only-of-type {\n",
       "        vertical-align: middle;\n",
       "    }\n",
       "\n",
       "    .dataframe tbody tr th {\n",
       "        vertical-align: top;\n",
       "    }\n",
       "\n",
       "    .dataframe thead th {\n",
       "        text-align: right;\n",
       "    }\n",
       "</style>\n",
       "<table border=\"1\" class=\"dataframe\">\n",
       "  <thead>\n",
       "    <tr style=\"text-align: right;\">\n",
       "      <th></th>\n",
       "      <th>company_name</th>\n",
       "      <th>trips_amount</th>\n",
       "    </tr>\n",
       "  </thead>\n",
       "  <tbody>\n",
       "    <tr>\n",
       "      <th>0</th>\n",
       "      <td>Flash Cab</td>\n",
       "      <td>19558</td>\n",
       "    </tr>\n",
       "    <tr>\n",
       "      <th>1</th>\n",
       "      <td>Taxi Affiliation Services</td>\n",
       "      <td>11422</td>\n",
       "    </tr>\n",
       "    <tr>\n",
       "      <th>2</th>\n",
       "      <td>Medallion Leasing</td>\n",
       "      <td>10367</td>\n",
       "    </tr>\n",
       "    <tr>\n",
       "      <th>3</th>\n",
       "      <td>Yellow Cab</td>\n",
       "      <td>9888</td>\n",
       "    </tr>\n",
       "    <tr>\n",
       "      <th>4</th>\n",
       "      <td>Taxi Affiliation Service Yellow</td>\n",
       "      <td>9299</td>\n",
       "    </tr>\n",
       "    <tr>\n",
       "      <th>5</th>\n",
       "      <td>Chicago Carriage Cab Corp</td>\n",
       "      <td>9181</td>\n",
       "    </tr>\n",
       "    <tr>\n",
       "      <th>6</th>\n",
       "      <td>City Service</td>\n",
       "      <td>8448</td>\n",
       "    </tr>\n",
       "    <tr>\n",
       "      <th>7</th>\n",
       "      <td>Sun Taxi</td>\n",
       "      <td>7701</td>\n",
       "    </tr>\n",
       "    <tr>\n",
       "      <th>8</th>\n",
       "      <td>Star North Management LLC</td>\n",
       "      <td>7455</td>\n",
       "    </tr>\n",
       "    <tr>\n",
       "      <th>9</th>\n",
       "      <td>Blue Ribbon Taxi Association Inc.</td>\n",
       "      <td>5953</td>\n",
       "    </tr>\n",
       "  </tbody>\n",
       "</table>\n",
       "</div>"
      ],
      "text/plain": [
       "                        company_name  trips_amount\n",
       "0                          Flash Cab         19558\n",
       "1          Taxi Affiliation Services         11422\n",
       "2                  Medallion Leasing         10367\n",
       "3                         Yellow Cab          9888\n",
       "4    Taxi Affiliation Service Yellow          9299\n",
       "5          Chicago Carriage Cab Corp          9181\n",
       "6                       City Service          8448\n",
       "7                           Sun Taxi          7701\n",
       "8          Star North Management LLC          7455\n",
       "9  Blue Ribbon Taxi Association Inc.          5953"
      ]
     },
     "execution_count": 5,
     "metadata": {},
     "output_type": "execute_result"
    }
   ],
   "source": [
    "top_company=company.sort_values(by='trips_amount', ascending=False)\n",
    "top_company.head(10)"
   ]
  },
  {
   "cell_type": "code",
   "execution_count": 6,
   "metadata": {},
   "outputs": [
    {
     "name": "stdout",
     "output_type": "stream",
     "text": [
      "<class 'pandas.core.frame.DataFrame'>\n",
      "Int64Index: 64 entries, 0 to 63\n",
      "Data columns (total 2 columns):\n",
      " #   Column        Non-Null Count  Dtype \n",
      "---  ------        --------------  ----- \n",
      " 0   company_name  64 non-null     object\n",
      " 1   trips_amount  64 non-null     int64 \n",
      "dtypes: int64(1), object(1)\n",
      "memory usage: 1.5+ KB\n"
     ]
    }
   ],
   "source": [
    "#check datatypes of dataframe \n",
    "top_company.info()"
   ]
  },
  {
   "cell_type": "code",
   "execution_count": 7,
   "metadata": {},
   "outputs": [
    {
     "data": {
      "text/plain": [
       "<AxesSubplot:title={'center':'Most Used Taxi Companies for November 15/16, 2017'}, ylabel='Number of Trips'>"
      ]
     },
     "execution_count": 7,
     "metadata": {},
     "output_type": "execute_result"
    },
    {
     "data": {
      "image/png": "[encoded data removed]",
      "text/plain": [
       "<Figure size 640x480 with 1 Axes>"
      ]
     },
     "metadata": {},
     "output_type": "display_data"
    }
   ],
   "source": [
    "top_company.head(20).plot.barh(\n",
    "title='Most Used Taxi Companies for November 15/16, 2017',\n",
    "color='purple', \n",
    "x='company_name',\n",
    "y='trips_amount',\n",
    "xlabel='Number of Trips', \n",
    "ylabel='Taxi Company')\n",
    "\n",
    "#x='trips_amount',\n",
    "#y='company_name',\n",
    "#xlabel='Number of Trips', \n",
    "#ylabel='Taxi Company')"
   ]
  },
  {
   "cell_type": "markdown",
   "metadata": {},
   "source": [
    "The most popular taxi company to be used is \"Flash Cab\".  Flash Cab is now the lead competitior for Zuber.  Their name implies part of their service is successful due to their speed of answering calls.  Their number of completed trips is nearly double its closest four competitors. Unsure if their dominancy is due to the area they service, the number of employees, or types of services they provide (restricting range of rides).  "
   ]
  },
  {
   "cell_type": "code",
   "execution_count": 8,
   "metadata": {},
   "outputs": [
    {
     "name": "stdout",
     "output_type": "stream",
     "text": [
      "  dropoff_location_name  average_trips\n",
      "0                  Loop   10727.466667\n",
      "1           River North    9523.666667\n",
      "2         Streeterville    6664.666667\n",
      "3             West Loop    5163.666667\n",
      "4                O'Hare    2546.900000\n",
      "<class 'pandas.core.frame.DataFrame'>\n",
      "RangeIndex: 94 entries, 0 to 93\n",
      "Data columns (total 2 columns):\n",
      " #   Column                 Non-Null Count  Dtype  \n",
      "---  ------                 --------------  -----  \n",
      " 0   dropoff_location_name  94 non-null     object \n",
      " 1   average_trips          94 non-null     float64\n",
      "dtypes: float64(1), object(1)\n",
      "memory usage: 1.6+ KB\n",
      "None\n"
     ]
    }
   ],
   "source": [
    "#import csv file \n",
    "neighborhood_average_dropoff = pd.read_csv('/datasets/project_sql_result_04.csv')\n",
    "print(neighborhood_average_dropoff.head())\n",
    "print(neighborhood_average_dropoff.info())\n",
    "#note that there are no empty columns\n",
    "#the data types for each column seem correct.  The location name is an object and average_trips is a float.  "
   ]
  },
  {
   "cell_type": "code",
   "execution_count": 9,
   "metadata": {},
   "outputs": [
    {
     "data": {
      "text/plain": [
       "0"
      ]
     },
     "execution_count": 9,
     "metadata": {},
     "output_type": "execute_result"
    }
   ],
   "source": [
    "#check for duplicated values \n",
    "neighborhood_average_dropoff.duplicated().sum()"
   ]
  },
  {
   "cell_type": "code",
   "execution_count": 10,
   "metadata": {},
   "outputs": [
    {
     "data": {
      "text/plain": [
       "dropoff_location_name    0\n",
       "average_trips            0\n",
       "dtype: int64"
      ]
     },
     "execution_count": 10,
     "metadata": {},
     "output_type": "execute_result"
    }
   ],
   "source": [
    "#confirm no empty columns \n",
    "neighborhood_average_dropoff.isna().sum()"
   ]
  },
  {
   "cell_type": "code",
   "execution_count": 11,
   "metadata": {},
   "outputs": [
    {
     "data": {
      "text/html": [
       "<div>\n",
       "<style scoped>\n",
       "    .dataframe tbody tr th:only-of-type {\n",
       "        vertical-align: middle;\n",
       "    }\n",
       "\n",
       "    .dataframe tbody tr th {\n",
       "        vertical-align: top;\n",
       "    }\n",
       "\n",
       "    .dataframe thead th {\n",
       "        text-align: right;\n",
       "    }\n",
       "</style>\n",
       "<table border=\"1\" class=\"dataframe\">\n",
       "  <thead>\n",
       "    <tr style=\"text-align: right;\">\n",
       "      <th></th>\n",
       "      <th>dropoff_location_name</th>\n",
       "      <th>average_trips</th>\n",
       "    </tr>\n",
       "  </thead>\n",
       "  <tbody>\n",
       "    <tr>\n",
       "      <th>0</th>\n",
       "      <td>Loop</td>\n",
       "      <td>10727.466667</td>\n",
       "    </tr>\n",
       "    <tr>\n",
       "      <th>1</th>\n",
       "      <td>River North</td>\n",
       "      <td>9523.666667</td>\n",
       "    </tr>\n",
       "    <tr>\n",
       "      <th>2</th>\n",
       "      <td>Streeterville</td>\n",
       "      <td>6664.666667</td>\n",
       "    </tr>\n",
       "    <tr>\n",
       "      <th>3</th>\n",
       "      <td>West Loop</td>\n",
       "      <td>5163.666667</td>\n",
       "    </tr>\n",
       "    <tr>\n",
       "      <th>4</th>\n",
       "      <td>O'Hare</td>\n",
       "      <td>2546.900000</td>\n",
       "    </tr>\n",
       "    <tr>\n",
       "      <th>5</th>\n",
       "      <td>Lake View</td>\n",
       "      <td>2420.966667</td>\n",
       "    </tr>\n",
       "    <tr>\n",
       "      <th>6</th>\n",
       "      <td>Grant Park</td>\n",
       "      <td>2068.533333</td>\n",
       "    </tr>\n",
       "    <tr>\n",
       "      <th>7</th>\n",
       "      <td>Museum Campus</td>\n",
       "      <td>1510.000000</td>\n",
       "    </tr>\n",
       "    <tr>\n",
       "      <th>8</th>\n",
       "      <td>Gold Coast</td>\n",
       "      <td>1364.233333</td>\n",
       "    </tr>\n",
       "    <tr>\n",
       "      <th>9</th>\n",
       "      <td>Sheffield &amp; DePaul</td>\n",
       "      <td>1259.766667</td>\n",
       "    </tr>\n",
       "    <tr>\n",
       "      <th>10</th>\n",
       "      <td>Lincoln Park</td>\n",
       "      <td>1246.533333</td>\n",
       "    </tr>\n",
       "    <tr>\n",
       "      <th>11</th>\n",
       "      <td>East Village</td>\n",
       "      <td>1212.066667</td>\n",
       "    </tr>\n",
       "    <tr>\n",
       "      <th>12</th>\n",
       "      <td>Little Italy, UIC</td>\n",
       "      <td>863.700000</td>\n",
       "    </tr>\n",
       "    <tr>\n",
       "      <th>13</th>\n",
       "      <td>Uptown</td>\n",
       "      <td>849.666667</td>\n",
       "    </tr>\n",
       "    <tr>\n",
       "      <th>14</th>\n",
       "      <td>Near South Side</td>\n",
       "      <td>839.833333</td>\n",
       "    </tr>\n",
       "    <tr>\n",
       "      <th>15</th>\n",
       "      <td>Garfield Ridge</td>\n",
       "      <td>745.400000</td>\n",
       "    </tr>\n",
       "    <tr>\n",
       "      <th>16</th>\n",
       "      <td>Logan Square</td>\n",
       "      <td>620.333333</td>\n",
       "    </tr>\n",
       "    <tr>\n",
       "      <th>17</th>\n",
       "      <td>Edgewater</td>\n",
       "      <td>583.300000</td>\n",
       "    </tr>\n",
       "    <tr>\n",
       "      <th>18</th>\n",
       "      <td>West Town</td>\n",
       "      <td>516.400000</td>\n",
       "    </tr>\n",
       "    <tr>\n",
       "      <th>19</th>\n",
       "      <td>Old Town</td>\n",
       "      <td>469.566667</td>\n",
       "    </tr>\n",
       "  </tbody>\n",
       "</table>\n",
       "</div>"
      ],
      "text/plain": [
       "   dropoff_location_name  average_trips\n",
       "0                   Loop   10727.466667\n",
       "1            River North    9523.666667\n",
       "2          Streeterville    6664.666667\n",
       "3              West Loop    5163.666667\n",
       "4                 O'Hare    2546.900000\n",
       "5              Lake View    2420.966667\n",
       "6             Grant Park    2068.533333\n",
       "7          Museum Campus    1510.000000\n",
       "8             Gold Coast    1364.233333\n",
       "9     Sheffield & DePaul    1259.766667\n",
       "10          Lincoln Park    1246.533333\n",
       "11          East Village    1212.066667\n",
       "12     Little Italy, UIC     863.700000\n",
       "13                Uptown     849.666667\n",
       "14       Near South Side     839.833333\n",
       "15        Garfield Ridge     745.400000\n",
       "16          Logan Square     620.333333\n",
       "17             Edgewater     583.300000\n",
       "18             West Town     516.400000\n",
       "19              Old Town     469.566667"
      ]
     },
     "execution_count": 11,
     "metadata": {},
     "output_type": "execute_result"
    }
   ],
   "source": [
    "#sort the neighborhood_average_dropoff dataframe for highest value \n",
    "top_neighborhoods = neighborhood_average_dropoff.sort_values(by='average_trips', ascending=False)\n",
    "top_neighborhoods.head(20)"
   ]
  },
  {
   "cell_type": "code",
   "execution_count": 12,
   "metadata": {},
   "outputs": [
    {
     "data": {
      "text/plain": [
       "<AxesSubplot:title={'center':'Most Active Zuber Neighborhoods of November 2017'}, xlabel='Neighborhood', ylabel='Average Number of Trips'>"
      ]
     },
     "execution_count": 12,
     "metadata": {},
     "output_type": "execute_result"
    },
    {
     "data": {
      "image/png": "[encoded data removed]",
      "text/plain": [
       "<Figure size 640x480 with 1 Axes>"
      ]
     },
     "metadata": {},
     "output_type": "display_data"
    }
   ],
   "source": [
    "#add visualization for most active areas. \n",
    "top_neighborhoods.head(10).plot(\n",
    "kind='bar',\n",
    "title='Most Active Zuber Neighborhoods of November 2017',\n",
    "color='pink', \n",
    "x='dropoff_location_name',\n",
    "y='average_trips',\n",
    "xlabel='Neighborhood', \n",
    "ylabel='Average Number of Trips')"
   ]
  },
  {
   "cell_type": "markdown",
   "metadata": {},
   "source": [
    "The most popular neighborhood to take a Zuber is the Loop.  Seeing as this is the centralized business district of Chicago this makes sense.  Many people would be in the neighborhood without a car as a visitor or not want to utilize their own car in the area due to the difficulty in parking.  The least used neighborhood is Sheffield & DePaul which is less tourist area.   "
   ]
  },
  {
   "cell_type": "code",
   "execution_count": 13,
   "metadata": {},
   "outputs": [
    {
     "name": "stdout",
     "output_type": "stream",
     "text": [
      "              start_ts weather_conditions  duration_seconds\n",
      "0  2017-11-25 16:00:00               Good            2410.0\n",
      "1  2017-11-25 14:00:00               Good            1920.0\n",
      "2  2017-11-25 12:00:00               Good            1543.0\n",
      "3  2017-11-04 10:00:00               Good            2512.0\n",
      "4  2017-11-11 07:00:00               Good            1440.0\n",
      "<class 'pandas.core.frame.DataFrame'>\n",
      "RangeIndex: 1068 entries, 0 to 1067\n",
      "Data columns (total 3 columns):\n",
      " #   Column              Non-Null Count  Dtype  \n",
      "---  ------              --------------  -----  \n",
      " 0   start_ts            1068 non-null   object \n",
      " 1   weather_conditions  1068 non-null   object \n",
      " 2   duration_seconds    1068 non-null   float64\n",
      "dtypes: float64(1), object(2)\n",
      "memory usage: 25.2+ KB\n",
      "None\n"
     ]
    }
   ],
   "source": [
    "#import csv file \n",
    "loop = pd.read_csv('/datasets/project_sql_result_07.csv')\n",
    "print(loop.head())\n",
    "print(loop.info())"
   ]
  },
  {
   "cell_type": "code",
   "execution_count": 14,
   "metadata": {},
   "outputs": [
    {
     "data": {
      "text/plain": [
       "197"
      ]
     },
     "execution_count": 14,
     "metadata": {},
     "output_type": "execute_result"
    }
   ],
   "source": [
    "#check for duplicates\n",
    "loop.duplicated().sum()"
   ]
  },
  {
   "cell_type": "code",
   "execution_count": 15,
   "metadata": {},
   "outputs": [
    {
     "data": {
      "text/plain": [
       "start_ts             weather_conditions  duration_seconds\n",
       "2017-11-11 08:00:00  Good                1380.0              8\n",
       "2017-11-11 06:00:00  Good                1260.0              8\n",
       "                                         1380.0              7\n",
       "2017-11-11 16:00:00  Good                2400.0              6\n",
       "2017-11-11 08:00:00  Good                1200.0              6\n",
       "                                                            ..\n",
       "2017-11-11 04:00:00  Good                1380.0              1\n",
       "                                         1477.0              1\n",
       "                                         1491.0              1\n",
       "                                         1620.0              1\n",
       "2017-11-25 23:00:00  Good                1500.0              1\n",
       "Length: 871, dtype: int64"
      ]
     },
     "execution_count": 15,
     "metadata": {},
     "output_type": "execute_result"
    }
   ],
   "source": [
    "#evaluate if duplicate or unique values \n",
    "loop.value_counts()"
   ]
  },
  {
   "cell_type": "markdown",
   "metadata": {},
   "source": [
    "removed instruction to drop duplicates due to correct note above. "
   ]
  },
  {
   "cell_type": "code",
   "execution_count": 16,
   "metadata": {},
   "outputs": [
    {
     "data": {
      "text/plain": [
       "start_ts              0\n",
       "weather_conditions    0\n",
       "duration_seconds      0\n",
       "dtype: int64"
      ]
     },
     "execution_count": 16,
     "metadata": {},
     "output_type": "execute_result"
    }
   ],
   "source": [
    "#check for blank values\n",
    "loop.isna().sum()"
   ]
  },
  {
   "cell_type": "code",
   "execution_count": 17,
   "metadata": {},
   "outputs": [
    {
     "name": "stdout",
     "output_type": "stream",
     "text": [
      "Reject the null hypothesis. There is a significant change in ride duration on rainy Saturdays.\n"
     ]
    }
   ],
   "source": [
    "#convert start_ts to date and time\n",
    "loop['start_ts'] = pd.to_datetime(loop['start_ts'])\n",
    "\n",
    "# Separate the data\n",
    "rainy = loop[(loop['weather_conditions'] == 'Bad') & (loop['start_ts'].dt.dayofweek == 5)]['duration_seconds']\n",
    "non_rainy = loop[(loop['weather_conditions'] == 'Good') & (loop['start_ts'].dt.dayofweek == 5)]['duration_seconds']\n",
    "\n",
    "# Perform t-test\n",
    "t_stat, p_value = ttest_ind(rainy, non_rainy, nan_policy='omit')\n",
    "\n",
    "# Set significance level\n",
    "alpha = 0.05\n",
    "\n",
    "# Interpret the results\n",
    "if p_value < alpha:\n",
    "    print(\"Reject the null hypothesis. There is a significant change in ride duration on rainy Saturdays.\")\n",
    "else:\n",
    "    print(\"Fail to reject the null hypothesis. No significant change in ride duration on rainy Saturdays.\")"
   ]
  },
  {
   "cell_type": "markdown",
   "metadata": {},
   "source": [
    "Hypothesis Testing \n",
    "Is the average duration of rides from the Loop to O'Hare International Airport change on rainy Saturdays? \n",
    "\n",
    "Null hypothesis is that the average duration of rides is the same, regardless of the weather. \n",
    "Alternative hypothesis is that average duration of rides differs according to the weather.  This will be evaluated by information on a rainy Saturday. Using alpha threshold of 0.05 becasue this demonstrates statistical signficance.   "
   ]
  },
  {
   "cell_type": "markdown",
   "metadata": {},
   "source": [
    "General Conclusion:\n",
    "    Zuber is aiming to be a new ride source for the Chicago area. Based on the data from a date in November their lead competitor will be a company called Flash Cab. Unsure if their dominancy is due to the area they service, the number of employees, or types of services they provide (restricting range of rides). Zuber could look into merging/purchasing their company since they have dominance.  An even more cost effective way would be to consider purchasing the 3/4th most popular companies (Medallion Leasing or Yellow Cab).  The price would be lower and the merge with Zuber would set Zuber up in the neighborhood as direct compeititors. This would help focus efforts on the three most popular areas (The Loop, River North, and Steeterville). These are all high tourist areas. However even in tourist areas the weather will effect the Zuber app.  Rides will take longer when there is precipitation.  "
   ]
  }
 ],
 "metadata": {
  "ExecuteTimeLog": [
   {
    "duration": 180,
    "start_time": "2024-10-30T03:26:26.953Z"
   },
   {
    "duration": 2602,
    "start_time": "2024-10-30T03:26:34.407Z"
   },
   {
    "duration": 15,
    "start_time": "2024-10-30T03:26:37.011Z"
   },
   {
    "duration": 11,
    "start_time": "2024-10-30T03:26:37.028Z"
   },
   {
    "duration": 525,
    "start_time": "2024-10-30T03:26:37.041Z"
   },
   {
    "duration": 69,
    "start_time": "2024-10-30T03:27:10.405Z"
   },
   {
    "duration": 62,
    "start_time": "2024-10-30T03:28:22.898Z"
   },
   {
    "duration": 914,
    "start_time": "2024-10-30T03:28:37.684Z"
   },
   {
    "duration": 11,
    "start_time": "2024-10-30T03:28:38.600Z"
   },
   {
    "duration": 9,
    "start_time": "2024-10-30T03:28:38.612Z"
   },
   {
    "duration": 589,
    "start_time": "2024-10-30T03:28:38.622Z"
   },
   {
    "duration": 14,
    "start_time": "2024-10-30T03:29:44.817Z"
   },
   {
    "duration": 13,
    "start_time": "2024-10-30T03:31:11.943Z"
   },
   {
    "duration": 16,
    "start_time": "2024-10-30T03:35:40.973Z"
   },
   {
    "duration": 13,
    "start_time": "2024-10-30T03:40:58.667Z"
   },
   {
    "duration": 5,
    "start_time": "2024-10-30T03:41:19.822Z"
   },
   {
    "duration": 4,
    "start_time": "2024-10-30T03:42:34.463Z"
   },
   {
    "duration": 6,
    "start_time": "2024-10-30T03:43:33.167Z"
   },
   {
    "duration": 6,
    "start_time": "2024-10-30T03:44:11.841Z"
   },
   {
    "duration": 160,
    "start_time": "2024-10-30T14:57:31.640Z"
   },
   {
    "duration": 2618,
    "start_time": "2024-10-30T14:57:41.559Z"
   },
   {
    "duration": 16,
    "start_time": "2024-10-30T14:57:44.180Z"
   },
   {
    "duration": 221,
    "start_time": "2024-10-30T14:57:44.198Z"
   },
   {
    "duration": 0,
    "start_time": "2024-10-30T14:57:44.421Z"
   },
   {
    "duration": 0,
    "start_time": "2024-10-30T14:57:44.423Z"
   },
   {
    "duration": 0,
    "start_time": "2024-10-30T14:57:44.424Z"
   },
   {
    "duration": 0,
    "start_time": "2024-10-30T14:57:44.426Z"
   },
   {
    "duration": 0,
    "start_time": "2024-10-30T14:57:44.427Z"
   },
   {
    "duration": 0,
    "start_time": "2024-10-30T14:57:44.429Z"
   },
   {
    "duration": 6,
    "start_time": "2024-10-30T14:57:54.219Z"
   },
   {
    "duration": 5,
    "start_time": "2024-10-30T14:57:55.501Z"
   },
   {
    "duration": 13,
    "start_time": "2024-10-30T14:57:56.053Z"
   },
   {
    "duration": 4,
    "start_time": "2024-10-30T14:57:56.596Z"
   },
   {
    "duration": 5,
    "start_time": "2024-10-30T14:57:57.310Z"
   },
   {
    "duration": 385,
    "start_time": "2024-10-30T14:57:58.207Z"
   },
   {
    "duration": 15,
    "start_time": "2024-10-30T15:09:49.450Z"
   },
   {
    "duration": 8,
    "start_time": "2024-10-30T15:09:58.604Z"
   },
   {
    "duration": 912,
    "start_time": "2024-10-30T15:41:06.588Z"
   },
   {
    "duration": 165,
    "start_time": "2024-10-30T15:43:36.237Z"
   },
   {
    "duration": 5,
    "start_time": "2024-10-30T15:44:33.360Z"
   },
   {
    "duration": 4,
    "start_time": "2024-10-30T15:44:44.795Z"
   },
   {
    "duration": 216,
    "start_time": "2024-10-30T15:44:58.023Z"
   },
   {
    "duration": 61,
    "start_time": "2024-10-30T15:46:48.041Z"
   },
   {
    "duration": 62,
    "start_time": "2024-10-30T15:47:01.187Z"
   },
   {
    "duration": 63,
    "start_time": "2024-10-30T15:52:34.633Z"
   },
   {
    "duration": 60,
    "start_time": "2024-10-30T15:52:59.791Z"
   },
   {
    "duration": 14,
    "start_time": "2024-10-30T15:53:15.420Z"
   },
   {
    "duration": 15,
    "start_time": "2024-10-30T16:54:35.642Z"
   },
   {
    "duration": 105,
    "start_time": "2024-10-30T16:54:44.482Z"
   },
   {
    "duration": 143,
    "start_time": "2024-10-30T17:03:20.059Z"
   },
   {
    "duration": 4,
    "start_time": "2024-10-30T17:06:20.393Z"
   },
   {
    "duration": 528,
    "start_time": "2024-10-30T17:06:21.785Z"
   },
   {
    "duration": 7,
    "start_time": "2024-10-30T17:08:28.978Z"
   },
   {
    "duration": 172,
    "start_time": "2024-10-30T17:08:53.375Z"
   },
   {
    "duration": 641,
    "start_time": "2024-10-30T17:09:32.477Z"
   },
   {
    "duration": 261,
    "start_time": "2024-10-30T17:09:44.546Z"
   },
   {
    "duration": 97,
    "start_time": "2024-10-30T17:11:49.750Z"
   },
   {
    "duration": 146,
    "start_time": "2024-10-30T17:16:47.006Z"
   },
   {
    "duration": 256,
    "start_time": "2024-10-30T17:17:06.790Z"
   },
   {
    "duration": 6,
    "start_time": "2024-10-30T17:19:14.930Z"
   },
   {
    "duration": 5,
    "start_time": "2024-10-30T17:19:17.985Z"
   },
   {
    "duration": 9,
    "start_time": "2024-10-30T17:23:07.773Z"
   },
   {
    "duration": 6,
    "start_time": "2024-10-30T17:26:12.209Z"
   },
   {
    "duration": 867,
    "start_time": "2024-10-30T17:26:53.319Z"
   },
   {
    "duration": 14,
    "start_time": "2024-10-30T17:26:54.188Z"
   },
   {
    "duration": 275,
    "start_time": "2024-10-30T17:26:54.203Z"
   },
   {
    "duration": 0,
    "start_time": "2024-10-30T17:26:54.480Z"
   },
   {
    "duration": 0,
    "start_time": "2024-10-30T17:26:54.487Z"
   },
   {
    "duration": 0,
    "start_time": "2024-10-30T17:26:54.488Z"
   },
   {
    "duration": 0,
    "start_time": "2024-10-30T17:26:54.489Z"
   },
   {
    "duration": 0,
    "start_time": "2024-10-30T17:26:54.491Z"
   },
   {
    "duration": 0,
    "start_time": "2024-10-30T17:26:54.492Z"
   },
   {
    "duration": 0,
    "start_time": "2024-10-30T17:26:54.494Z"
   },
   {
    "duration": 0,
    "start_time": "2024-10-30T17:26:54.495Z"
   },
   {
    "duration": 0,
    "start_time": "2024-10-30T17:26:54.497Z"
   },
   {
    "duration": 0,
    "start_time": "2024-10-30T17:26:54.498Z"
   },
   {
    "duration": 0,
    "start_time": "2024-10-30T17:26:54.500Z"
   },
   {
    "duration": 0,
    "start_time": "2024-10-30T17:26:54.501Z"
   },
   {
    "duration": 0,
    "start_time": "2024-10-30T17:26:54.503Z"
   },
   {
    "duration": 0,
    "start_time": "2024-10-30T17:26:54.504Z"
   },
   {
    "duration": 887,
    "start_time": "2024-10-30T17:27:24.683Z"
   },
   {
    "duration": 17,
    "start_time": "2024-10-30T17:27:25.572Z"
   },
   {
    "duration": 5,
    "start_time": "2024-10-30T17:27:25.590Z"
   },
   {
    "duration": 5,
    "start_time": "2024-10-30T17:27:25.597Z"
   },
   {
    "duration": 7,
    "start_time": "2024-10-30T17:27:25.603Z"
   },
   {
    "duration": 299,
    "start_time": "2024-10-30T17:27:25.612Z"
   },
   {
    "duration": 12,
    "start_time": "2024-10-30T17:27:25.913Z"
   },
   {
    "duration": 4,
    "start_time": "2024-10-30T17:27:25.926Z"
   },
   {
    "duration": 4,
    "start_time": "2024-10-30T17:27:25.932Z"
   },
   {
    "duration": 7,
    "start_time": "2024-10-30T17:27:25.940Z"
   },
   {
    "duration": 168,
    "start_time": "2024-10-30T17:27:25.948Z"
   },
   {
    "duration": 11,
    "start_time": "2024-10-30T17:27:26.118Z"
   },
   {
    "duration": 6,
    "start_time": "2024-10-30T17:27:26.131Z"
   },
   {
    "duration": 8,
    "start_time": "2024-10-30T17:27:26.138Z"
   },
   {
    "duration": 5,
    "start_time": "2024-10-30T17:27:26.148Z"
   },
   {
    "duration": 31,
    "start_time": "2024-10-30T17:27:26.155Z"
   },
   {
    "duration": 10,
    "start_time": "2024-10-30T17:40:39.660Z"
   },
   {
    "duration": 5,
    "start_time": "2024-10-30T17:40:45.060Z"
   },
   {
    "duration": 10,
    "start_time": "2024-10-30T17:43:17.394Z"
   },
   {
    "duration": 5,
    "start_time": "2024-10-30T17:43:21.158Z"
   },
   {
    "duration": 277,
    "start_time": "2024-10-30T18:52:26.626Z"
   },
   {
    "duration": 807,
    "start_time": "2024-10-30T18:52:39.471Z"
   },
   {
    "duration": 18,
    "start_time": "2024-10-30T18:52:40.280Z"
   },
   {
    "duration": 4,
    "start_time": "2024-10-30T18:52:40.300Z"
   },
   {
    "duration": 5,
    "start_time": "2024-10-30T18:52:40.306Z"
   },
   {
    "duration": 6,
    "start_time": "2024-10-30T18:52:40.313Z"
   },
   {
    "duration": 302,
    "start_time": "2024-10-30T18:52:40.321Z"
   },
   {
    "duration": 12,
    "start_time": "2024-10-30T18:52:40.625Z"
   },
   {
    "duration": 4,
    "start_time": "2024-10-30T18:52:40.639Z"
   },
   {
    "duration": 5,
    "start_time": "2024-10-30T18:52:40.645Z"
   },
   {
    "duration": 7,
    "start_time": "2024-10-30T18:52:40.651Z"
   },
   {
    "duration": 157,
    "start_time": "2024-10-30T18:52:40.660Z"
   },
   {
    "duration": 12,
    "start_time": "2024-10-30T18:52:40.819Z"
   },
   {
    "duration": 5,
    "start_time": "2024-10-30T18:52:40.832Z"
   },
   {
    "duration": 8,
    "start_time": "2024-10-30T18:52:40.840Z"
   },
   {
    "duration": 10,
    "start_time": "2024-10-30T18:52:40.850Z"
   },
   {
    "duration": 6,
    "start_time": "2024-10-30T18:52:40.887Z"
   },
   {
    "duration": 288,
    "start_time": "2024-10-30T18:52:40.895Z"
   },
   {
    "duration": 22,
    "start_time": "2024-10-30T18:53:50.383Z"
   },
   {
    "duration": 158,
    "start_time": "2024-10-31T04:27:53.542Z"
   },
   {
    "duration": 2612,
    "start_time": "2024-10-31T04:28:01.145Z"
   },
   {
    "duration": 16,
    "start_time": "2024-10-31T04:28:03.759Z"
   },
   {
    "duration": 5,
    "start_time": "2024-10-31T04:28:03.779Z"
   },
   {
    "duration": 20,
    "start_time": "2024-10-31T04:28:03.786Z"
   },
   {
    "duration": 7,
    "start_time": "2024-10-31T04:28:03.808Z"
   },
   {
    "duration": 298,
    "start_time": "2024-10-31T04:28:03.816Z"
   },
   {
    "duration": 15,
    "start_time": "2024-10-31T04:28:04.115Z"
   },
   {
    "duration": 5,
    "start_time": "2024-10-31T04:28:04.131Z"
   },
   {
    "duration": 5,
    "start_time": "2024-10-31T04:28:04.138Z"
   },
   {
    "duration": 11,
    "start_time": "2024-10-31T04:28:04.147Z"
   },
   {
    "duration": 162,
    "start_time": "2024-10-31T04:28:04.159Z"
   },
   {
    "duration": 17,
    "start_time": "2024-10-31T04:28:04.323Z"
   },
   {
    "duration": 5,
    "start_time": "2024-10-31T04:28:04.342Z"
   },
   {
    "duration": 8,
    "start_time": "2024-10-31T04:28:04.349Z"
   },
   {
    "duration": 10,
    "start_time": "2024-10-31T04:28:04.359Z"
   },
   {
    "duration": 4,
    "start_time": "2024-10-31T04:28:04.370Z"
   },
   {
    "duration": 265,
    "start_time": "2024-10-31T04:28:04.376Z"
   },
   {
    "duration": 21,
    "start_time": "2024-10-31T04:28:23.623Z"
   },
   {
    "duration": 21,
    "start_time": "2024-10-31T04:28:44.987Z"
   },
   {
    "duration": 21,
    "start_time": "2024-10-31T04:28:57.135Z"
   },
   {
    "duration": 21,
    "start_time": "2024-10-31T04:29:10.733Z"
   },
   {
    "duration": 7,
    "start_time": "2024-10-31T04:34:10.526Z"
   },
   {
    "duration": 7,
    "start_time": "2024-10-31T04:35:21.909Z"
   },
   {
    "duration": 2623,
    "start_time": "2024-11-05T15:42:12.525Z"
   },
   {
    "duration": 16,
    "start_time": "2024-11-05T15:42:15.150Z"
   },
   {
    "duration": 5,
    "start_time": "2024-11-05T15:42:15.168Z"
   },
   {
    "duration": 6,
    "start_time": "2024-11-05T15:42:15.186Z"
   },
   {
    "duration": 7,
    "start_time": "2024-11-05T15:42:15.194Z"
   },
   {
    "duration": 344,
    "start_time": "2024-11-05T15:42:20.124Z"
   },
   {
    "duration": 829,
    "start_time": "2024-11-05T15:42:44.357Z"
   },
   {
    "duration": 12,
    "start_time": "2024-11-05T15:42:45.189Z"
   },
   {
    "duration": 4,
    "start_time": "2024-11-05T15:42:45.203Z"
   },
   {
    "duration": 5,
    "start_time": "2024-11-05T15:42:45.209Z"
   },
   {
    "duration": 7,
    "start_time": "2024-11-05T15:42:45.218Z"
   },
   {
    "duration": 415,
    "start_time": "2024-11-05T15:42:45.227Z"
   },
   {
    "duration": 0,
    "start_time": "2024-11-05T15:42:45.644Z"
   },
   {
    "duration": 0,
    "start_time": "2024-11-05T15:42:45.646Z"
   },
   {
    "duration": 0,
    "start_time": "2024-11-05T15:42:45.647Z"
   },
   {
    "duration": 0,
    "start_time": "2024-11-05T15:42:45.648Z"
   },
   {
    "duration": 0,
    "start_time": "2024-11-05T15:42:45.648Z"
   },
   {
    "duration": 0,
    "start_time": "2024-11-05T15:42:45.649Z"
   },
   {
    "duration": 0,
    "start_time": "2024-11-05T15:42:45.650Z"
   },
   {
    "duration": 0,
    "start_time": "2024-11-05T15:42:45.652Z"
   },
   {
    "duration": 0,
    "start_time": "2024-11-05T15:42:45.653Z"
   },
   {
    "duration": 0,
    "start_time": "2024-11-05T15:42:45.655Z"
   },
   {
    "duration": 0,
    "start_time": "2024-11-05T15:42:45.656Z"
   },
   {
    "duration": 8,
    "start_time": "2024-11-05T15:43:49.794Z"
   },
   {
    "duration": 569,
    "start_time": "2024-11-05T15:44:33.619Z"
   },
   {
    "duration": 449,
    "start_time": "2024-11-05T15:45:08.649Z"
   },
   {
    "duration": 3,
    "start_time": "2024-11-05T15:45:21.489Z"
   },
   {
    "duration": 40,
    "start_time": "2024-11-05T15:45:25.825Z"
   },
   {
    "duration": 41,
    "start_time": "2024-11-05T15:47:26.432Z"
   },
   {
    "duration": 14,
    "start_time": "2024-11-05T15:54:28.830Z"
   },
   {
    "duration": 3,
    "start_time": "2024-11-05T15:55:19.033Z"
   },
   {
    "duration": 14,
    "start_time": "2024-11-05T15:55:19.038Z"
   },
   {
    "duration": 4,
    "start_time": "2024-11-05T15:55:19.053Z"
   },
   {
    "duration": 5,
    "start_time": "2024-11-05T15:55:19.059Z"
   },
   {
    "duration": 6,
    "start_time": "2024-11-05T15:55:19.066Z"
   },
   {
    "duration": 8,
    "start_time": "2024-11-05T15:55:19.074Z"
   },
   {
    "duration": 3,
    "start_time": "2024-11-05T15:55:19.084Z"
   },
   {
    "duration": 41,
    "start_time": "2024-11-05T15:55:22.254Z"
   },
   {
    "duration": 1500,
    "start_time": "2024-11-05T15:57:36.583Z"
   },
   {
    "duration": 239,
    "start_time": "2024-11-05T16:03:32.931Z"
   },
   {
    "duration": 20,
    "start_time": "2024-11-05T16:06:58.222Z"
   },
   {
    "duration": 206,
    "start_time": "2024-11-05T16:07:14.467Z"
   },
   {
    "duration": 2595,
    "start_time": "2024-11-05T23:42:45.555Z"
   },
   {
    "duration": 18,
    "start_time": "2024-11-05T23:42:48.152Z"
   },
   {
    "duration": 5,
    "start_time": "2024-11-05T23:42:48.172Z"
   },
   {
    "duration": 5,
    "start_time": "2024-11-05T23:42:48.179Z"
   },
   {
    "duration": 25,
    "start_time": "2024-11-05T23:42:48.186Z"
   },
   {
    "duration": 1483,
    "start_time": "2024-11-05T23:42:48.213Z"
   },
   {
    "duration": 10,
    "start_time": "2024-11-05T23:42:49.698Z"
   },
   {
    "duration": 3,
    "start_time": "2024-11-05T23:42:49.709Z"
   },
   {
    "duration": 223,
    "start_time": "2024-11-05T23:42:49.714Z"
   },
   {
    "duration": 22,
    "start_time": "2024-11-05T23:42:49.940Z"
   },
   {
    "duration": 4,
    "start_time": "2024-11-05T23:42:49.964Z"
   },
   {
    "duration": 6,
    "start_time": "2024-11-05T23:42:49.970Z"
   },
   {
    "duration": 7,
    "start_time": "2024-11-05T23:42:49.977Z"
   },
   {
    "duration": 174,
    "start_time": "2024-11-05T23:42:49.986Z"
   },
   {
    "duration": 16,
    "start_time": "2024-11-05T23:42:50.162Z"
   },
   {
    "duration": 5,
    "start_time": "2024-11-05T23:42:50.180Z"
   },
   {
    "duration": 25,
    "start_time": "2024-11-05T23:42:50.187Z"
   },
   {
    "duration": 6,
    "start_time": "2024-11-05T23:42:50.213Z"
   },
   {
    "duration": 7,
    "start_time": "2024-11-05T23:42:50.220Z"
   },
   {
    "duration": 145,
    "start_time": "2024-11-06T02:38:54.022Z"
   },
   {
    "duration": 497,
    "start_time": "2024-11-06T02:49:01.640Z"
   },
   {
    "duration": 14,
    "start_time": "2024-11-06T02:50:08.797Z"
   },
   {
    "duration": 897,
    "start_time": "2025-04-18T17:31:14.336Z"
   },
   {
    "duration": 18,
    "start_time": "2025-04-18T17:31:15.235Z"
   },
   {
    "duration": 5,
    "start_time": "2025-04-18T17:31:15.254Z"
   },
   {
    "duration": 5,
    "start_time": "2025-04-18T17:31:15.261Z"
   },
   {
    "duration": 7,
    "start_time": "2025-04-18T17:31:15.268Z"
   },
   {
    "duration": 8,
    "start_time": "2025-04-18T17:31:15.276Z"
   },
   {
    "duration": 249,
    "start_time": "2025-04-18T17:31:15.286Z"
   },
   {
    "duration": 14,
    "start_time": "2025-04-18T17:31:15.537Z"
   },
   {
    "duration": 4,
    "start_time": "2025-04-18T17:31:15.552Z"
   },
   {
    "duration": 4,
    "start_time": "2025-04-18T17:31:15.558Z"
   },
   {
    "duration": 7,
    "start_time": "2025-04-18T17:31:15.563Z"
   },
   {
    "duration": 174,
    "start_time": "2025-04-18T17:31:15.572Z"
   },
   {
    "duration": 15,
    "start_time": "2025-04-18T17:31:15.748Z"
   },
   {
    "duration": 7,
    "start_time": "2025-04-18T17:31:15.766Z"
   },
   {
    "duration": 8,
    "start_time": "2025-04-18T17:31:15.775Z"
   },
   {
    "duration": 4,
    "start_time": "2025-04-18T17:31:15.785Z"
   },
   {
    "duration": 34,
    "start_time": "2025-04-18T17:31:15.791Z"
   }
  ],
  "kernelspec": {
   "display_name": "Python 3 (ipykernel)",
   "language": "python",
   "name": "python3"
  },
  "language_info": {
   "codemirror_mode": {
    "name": "ipython",
    "version": 3
   },
   "file_extension": ".py",
   "mimetype": "text/x-python",
   "name": "python",
   "nbconvert_exporter": "python",
   "pygments_lexer": "ipython3",
   "version": "3.9.19"
  },
  "toc": {
   "base_numbering": 1,
   "nav_menu": {},
   "number_sections": true,
   "sideBar": true,
   "skip_h1_title": true,
   "title_cell": "Table of Contents",
   "title_sidebar": "Contents",
   "toc_cell": false,
   "toc_position": {},
   "toc_section_display": true,
   "toc_window_display": false
  }
 },
 "nbformat": 4,
 "nbformat_minor": 2
}
